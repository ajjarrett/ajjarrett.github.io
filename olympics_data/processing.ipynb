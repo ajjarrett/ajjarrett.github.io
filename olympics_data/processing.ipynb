{
 "cells": [
  {
   "cell_type": "code",
   "execution_count": 6,
   "metadata": {},
   "outputs": [],
   "source": [
    "years = [str(year) for year in range(2000, 2024, 2) ]\n",
    "\n",
    "for year in years:\n",
    "\n",
    "    input_file = '/Users/austinjarrett/Desktop/ajjarrett.github.io/olympics_data/Olympics' + year + '_raw.csv'\n",
    "    output_file = '/Users/austinjarrett/Desktop/ajjarrett.github.io/olympics_data/Olympics' + year + '_sorted.csv'\n",
    "\n",
    "    with open(input_file, 'r') as csv_file:\n",
    "        count = 0\n",
    "        lines = [line.strip() for line in csv_file]\n",
    "        \n",
    "        index_of_zeros = []\n",
    "        for i, line in enumerate(lines):\n",
    "            if line == '-':\n",
    "                index_of_zeros.append(i)\n",
    "            count += 1\n",
    "        \n",
    "        for index in index_of_zeros:\n",
    "            lines[index] = '0'\n",
    "\n",
    "    def chunker(seq, size):\n",
    "        return (seq[pos:pos + size] for pos in range(0, len(seq), size))\n",
    "\n",
    "    with open(output_file, 'w') as new_csv:\n",
    "        for group in chunker(lines, 6):\n",
    "            new_csv.write(group[0] + ',' + group[1] + ',' + group[2] + ',' + group[3] + ',' + group[4] + '\\n')"
   ]
  },
  {
   "cell_type": "code",
   "execution_count": null,
   "metadata": {},
   "outputs": [],
   "source": []
  }
 ],
 "metadata": {
  "kernelspec": {
   "display_name": "zontal",
   "language": "python",
   "name": "python3"
  },
  "language_info": {
   "codemirror_mode": {
    "name": "ipython",
    "version": 3
   },
   "file_extension": ".py",
   "mimetype": "text/x-python",
   "name": "python",
   "nbconvert_exporter": "python",
   "pygments_lexer": "ipython3",
   "version": "3.12.2"
  }
 },
 "nbformat": 4,
 "nbformat_minor": 2
}
